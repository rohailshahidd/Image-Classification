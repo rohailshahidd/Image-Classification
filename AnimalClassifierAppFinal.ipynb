{
 "cells": [
  {
   "cell_type": "code",
   "execution_count": null,
   "id": "9aac1156-0763-4b9c-b637-efab72f214ee",
   "metadata": {},
   "outputs": [
    {
     "name": "stderr",
     "output_type": "stream",
     "text": [
      "WARNING:absl:Compiled the loaded model, but the compiled metrics have yet to be built. `model.compile_metrics` will be empty until you train or evaluate the model.\n"
     ]
    },
    {
     "name": "stdout",
     "output_type": "stream",
     "text": [
      "\u001b[1m1/1\u001b[0m \u001b[32m━━━━━━━━━━━━━━━━━━━━\u001b[0m\u001b[37m\u001b[0m \u001b[1m2s\u001b[0m 2s/step\n"
     ]
    }
   ],
   "source": [
    "import tkinter as tk\n",
    "from tkinter import filedialog, ttk\n",
    "from PIL import Image, ImageTk\n",
    "import cv2\n",
    "import numpy as np\n",
    "from tensorflow.keras.models import load_model\n",
    "\n",
    "model = load_model('res152animalclass2.h5')\n",
    "model.compile(optimizer='adam', loss='categorical_crossentropy', metrics=['accuracy'])\n",
    "\n",
    "class_names = ['antelope', 'bear', 'beaver', 'bee', 'bison', 'blackbird', 'buffalo', 'butterfly', 'camel', 'cat',\n",
    "               'cheetah', 'chimpanzee', 'chinchilla', 'cow', 'crab', 'crocodile', 'deer', 'dog', 'dolphin', 'donkey',\n",
    "               'duck', 'eagle', 'elephant', 'falcon', 'ferret', 'flamingo', 'fox', 'frog', 'giraffe', 'goat', 'goose',\n",
    "               'gorilla', 'grasshopper', 'hawk', 'hedgehog', 'hippopotamus', 'hyena', 'iguana', 'jaguar', 'kangaroo',\n",
    "               'koala', 'lemur', 'leopard', 'lizard', 'lynx', 'mole', 'mongoose', 'ostrich', 'otter', 'owl', 'panda',\n",
    "               'peacock', 'penguin', 'porcupine', 'raccoon', 'seal', 'sheep', 'snail', 'snake', 'spider', 'squid',\n",
    "               'walrus', 'whale', 'wolf']\n",
    "\n",
    "def rescale(image):\n",
    "    return image / 255.0\n",
    "\n",
    "def normalize_image(img):\n",
    "    mean = np.array([0.485, 0.456, 0.406])\n",
    "    std = np.array([0.229, 0.224, 0.225])\n",
    "    img = (img - mean) / std\n",
    "    return img\n",
    "\n",
    "def preprocess_image(image_path, target_shape=(224, 224)):\n",
    "    image = cv2.imread(image_path)\n",
    "    if image is not None:\n",
    "        image_resized = cv2.resize(image, target_shape)\n",
    "        image_rescaled = rescale(image_resized)\n",
    "        image_normalized = normalize_image(image_rescaled)\n",
    "        return np.expand_dims(image_normalized, axis=0)\n",
    "    return None\n",
    "\n",
    "def predict_animal(image_path):\n",
    "    processed_image = preprocess_image(image_path)\n",
    "    predictions = model.predict(processed_image)\n",
    "    return predictions[0]\n",
    "\n",
    "def browse_file():\n",
    "    file_path = filedialog.askopenfilename(filetypes=[(\"Image Files\", \"*.png;*.jpg;*.jpeg\")])\n",
    "    if file_path:\n",
    "        img = Image.open(file_path)\n",
    "        img.thumbnail((400, 400))\n",
    "        img = ImageTk.PhotoImage(img)\n",
    "        panel.configure(image=img)\n",
    "        panel.image = img\n",
    "\n",
    "        for item in result_tree.get_children():\n",
    "            result_tree.delete(item)\n",
    "\n",
    "        predictions = predict_animal(file_path)\n",
    "        sorted_predictions = sorted(zip(class_names, predictions), key=lambda x: x[1], reverse=True)\n",
    "\n",
    "        for class_name, confidence in sorted_predictions:\n",
    "            result_tree.insert('', 'end', values=(class_name, f\"{confidence:.2%}\"))\n",
    "\n",
    "        if sorted_predictions:\n",
    "            top_prediction = sorted_predictions[0]\n",
    "            top_result_label.configure(text=f\"This animal is a {top_prediction[0]} with confidence {top_prediction[1]:.2%}\")\n",
    "        else:\n",
    "            top_result_label.configure(text=\"No predictions available.\")\n",
    "\n",
    "app = tk.Tk()\n",
    "app.title(\"Animal Classifier\")\n",
    "app.geometry(\"1000x1000\")\n",
    "app.configure(bg=\"#FFFAF0\")\n",
    "\n",
    "header_label = tk.Label(app, text=\"Animal Classifier\", font=(\"Arial\", 24, \"bold\"), bg=\"#FFFAF0\", fg=\"#2F4F4F\")\n",
    "header_label.pack(pady=10)\n",
    "\n",
    "panel = tk.Label(app, bg=\"#FFFAF0\")\n",
    "panel.pack(pady=20)\n",
    "\n",
    "browse_button = tk.Button(app, text=\"Browse Image\", command=browse_file, font=(\"Arial\", 14), bg=\"#20B2AA\", fg=\"white\")\n",
    "browse_button.pack(pady=10)\n",
    "\n",
    "result_tree = ttk.Treeview(app, columns=(\"Class\", \"Confidence\"), show=\"headings\", height=15)\n",
    "result_tree.heading(\"Class\", text=\"Class\")\n",
    "result_tree.heading(\"Confidence\", text=\"Confidence\")\n",
    "result_tree.column(\"Class\", width=200, anchor=\"center\")\n",
    "result_tree.column(\"Confidence\", width=200, anchor=\"center\")\n",
    "result_tree.pack(pady=20)\n",
    "\n",
    "top_result_label = tk.Label(app, text=\"\", font=(\"Arial\", 14), bg=\"#FFFAF0\", fg=\"#2F4F4F\")\n",
    "top_result_label.place(x=150, y=750)\n",
    "top_result_label.pack(pady=20)\n",
    "\n",
    "app.mainloop()"
   ]
  },
  {
   "cell_type": "code",
   "execution_count": null,
   "id": "18dd8e7d-5e40-404c-ac7f-74d578754313",
   "metadata": {},
   "outputs": [],
   "source": []
  }
 ],
 "metadata": {
  "kernelspec": {
   "display_name": "Python 3 (ipykernel)",
   "language": "python",
   "name": "python3"
  },
  "language_info": {
   "codemirror_mode": {
    "name": "ipython",
    "version": 3
   },
   "file_extension": ".py",
   "mimetype": "text/x-python",
   "name": "python",
   "nbconvert_exporter": "python",
   "pygments_lexer": "ipython3",
   "version": "3.12.7"
  }
 },
 "nbformat": 4,
 "nbformat_minor": 5
}
